{
  "nbformat": 4,
  "nbformat_minor": 0,
  "metadata": {
    "colab": {
      "provenance": [],
      "authorship_tag": "ABX9TyNNQc7pLOO/YvHNZznu71hm",
      "include_colab_link": true
    },
    "kernelspec": {
      "name": "python3",
      "display_name": "Python 3"
    },
    "language_info": {
      "name": "python"
    }
  },
  "cells": [
    {
      "cell_type": "markdown",
      "metadata": {
        "id": "view-in-github",
        "colab_type": "text"
      },
      "source": [
        "<a href=\"https://colab.research.google.com/github/Puthtarr/veggie_scraper/blob/main/Veggie.ipynb\" target=\"_parent\"><img src=\"https://colab.research.google.com/assets/colab-badge.svg\" alt=\"Open In Colab\"/></a>"
      ]
    },
    {
      "cell_type": "code",
      "source": [
        "# 📦 ติดตั้งไลบรารีที่จำเป็น\n",
        "# !apt update > /dev/null\n",
        "# !apt install -y chromium-browser chromium-chromedriver > /dev/null\n",
        "# !cp /usr/lib/chromium-browser/chromedriver /usr/bin\n",
        "# !pip install -q selenium\n",
        "# !pip install webdriver-manager\n",
        "# !pip install -q google-colab-selenium\n",
        "# !pip install -q beautifulsoup4\n",
        "\n",
        "# 📥 นำเข้าไลบรารี\n",
        "from bs4 import BeautifulSoup\n",
        "import google_colab_selenium as gs\n",
        "from selenium.webdriver.chrome.service import Service\n",
        "import smtplib\n",
        "import time\n",
        "from email.mime.text import MIMEText\n",
        "from email.mime.multipart import MIMEMultipart\n",
        "from datetime import datetime\n",
        "\n",
        "# 🚀 เปิด browser\n",
        "driver = gs.Chrome()\n",
        "\n",
        "# 🌽 ลิงก์สินค้าจากตลาดสี่มุมเมือง\n",
        "products = {\n",
        "    \"แครอทจีน\": \"https://www.simummuangmarket.com/product/2678\",\n",
        "    \"แครอทไทย\": \"https://www.simummuangmarket.com/product/2739\",\n",
        "    \"ผักกาดขาว(ลุ้ย)\": \"https://www.simummuangmarket.com/product/79\",\n",
        "    \"ผักกาดขาว(ลุ้ย)จีน\": \"https://www.simummuangmarket.com/product/2680\",\n",
        "    \"กรีนโอ๊ค\": \"https://www.simummuangmarket.com/product/2785\",\n",
        "    \"ผักเรดโอ๊ค\": \"https://www.simummuangmarket.com/product/90\",\n",
        "    \"กรีนคอส\": \"https://www.simummuangmarket.com/product/69\",\n",
        "    \"กะหล่ำปลี ม่วง\": \"https://www.simummuangmarket.com/product/71\",\n",
        "    \"ข้าวโพดหวานแกะเม็ด\": \"https://www.simummuangmarket.com/product/2694\"\n",
        "}\n",
        "\n",
        "# 📋 รวบรวมผลลัพธ์\n",
        "results = []\n",
        "\n",
        "for name, url in products.items():\n",
        "    try:\n",
        "        driver.get(url)\n",
        "        time.sleep(2)\n",
        "        soup = BeautifulSoup(driver.page_source, \"html.parser\")\n",
        "\n",
        "        # 🔍 ดึงราคา\n",
        "        price_div = soup.find(\"div\", class_=\"price text-red\")\n",
        "        price = price_div.find(\"strong\").text.strip() if price_div else \"ไม่มีข้อมูล\"\n",
        "\n",
        "        results.append(f\"{name} : {price} บาท /กก.\")\n",
        "\n",
        "    except Exception as e:\n",
        "        results.append(f\"{name} : ❌ error ({e.__class__.__name__})\")\n",
        "\n",
        "# 🔚 ปิด browser\n",
        "driver.quit()\n",
        "\n",
        "# 📧 ส่งอีเมล\n",
        "gmail_user = 'tanayus.ohm1023@gmail.com'       # เปลี่ยนเป็นอีเมลของคุณ\n",
        "gmail_pass = 'kbljwzrnjbucffum'                # ใช้ App Password จาก Gmail เท่านั้น\n",
        "to_email = 'piyaphatputt01@gmail.com, tanayus.ohm1023@gmail.com'\n",
        "\n",
        "# 📅 วันที่ปัจจุบัน\n",
        "report_date = datetime.now().strftime(\"%d %B %Y\")\n",
        "\n",
        "# 📨 เนื้อหาอีเมล\n",
        "header = f\"\"\"\n",
        "📆 รายงานวันที่: {report_date}\n",
        "📊 แหล่งข้อมูล: ตลาดสี่มุมเมือง (www.simummuangmarket.com)\n",
        "\n",
        "📋 ราคาผักวันนี้\n",
        "\"\"\"\n",
        "\n",
        "body = header + \"\\n\" + \"\\n\".join(results)\n",
        "print(results)\n",
        "\n",
        "msg = MIMEMultipart()\n",
        "msg['From'] = gmail_user\n",
        "msg['To'] = to_email\n",
        "msg['Subject'] = \"📬 รายงานราคาผักประจำวันที่\"\n",
        "msg.attach(MIMEText(body, 'plain'))\n",
        "\n",
        "try:\n",
        "    with smtplib.SMTP_SSL('smtp.gmail.com', 465) as server:\n",
        "        server.login(gmail_user, gmail_pass)\n",
        "        server.send_message(msg)\n",
        "        print(\"📨 ส่งอีเมลเรียบร้อยแล้ว\")\n",
        "except Exception as e:\n",
        "    print(f\"❌ Error: {e}\")"
      ],
      "metadata": {
        "colab": {
          "base_uri": "https://localhost:8080/",
          "height": 94
        },
        "id": "lEkFqaEqChtb",
        "outputId": "b5585d90-05a9-426b-c02d-1af0565a517b"
      },
      "execution_count": 6,
      "outputs": [
        {
          "output_type": "display_data",
          "data": {
            "text/plain": [
              "<IPython.core.display.HTML object>"
            ],
            "text/html": [
              "\n",
              "            <div class=\"spinner-container\">\n",
              "                <div class=\"spinner\" id=\"384c66b4-b584-4fed-ab0d-a1b3ba82ec4c-circle\"></div>\n",
              "                <div class=\"spinner-text\" id=\"384c66b4-b584-4fed-ab0d-a1b3ba82ec4c-text\">Initializing Chromedriver</div>\n",
              "            </div>\n",
              "            <style>\n",
              "                @keyframes spin {\n",
              "                    from { transform: rotate(0deg); }\n",
              "                    to { transform: rotate(360deg); }\n",
              "                }\n",
              "\n",
              "                .spinner-container {\n",
              "                    display: flex;\n",
              "                    align-items: center;\n",
              "                    margin-bottom: 3px;\n",
              "                }\n",
              "\n",
              "                .spinner {\n",
              "                    border: 3px solid rgba(0, 0, 0, 0.1);\n",
              "                    border-left-color: lightblue;\n",
              "                    border-radius: 50%;\n",
              "                    width: 12px;\n",
              "                    height: 12px;\n",
              "                    animation: spin 1s linear infinite;\n",
              "                }\n",
              "\n",
              "                .spinner-text {\n",
              "                    padding-left: 6px;\n",
              "                }\n",
              "            </style>\n",
              "        "
            ]
          },
          "metadata": {}
        },
        {
          "output_type": "display_data",
          "data": {
            "text/plain": [
              "<IPython.core.display.Javascript object>"
            ],
            "application/javascript": [
              "\n",
              "            const element = document.getElementById(\"384c66b4-b584-4fed-ab0d-a1b3ba82ec4c-circle\");\n",
              "            element.style.border = \"3px solid limegreen\";\n",
              "            element.style.animation = \"none\";\n",
              "\n",
              "            const text = document.getElementById(\"384c66b4-b584-4fed-ab0d-a1b3ba82ec4c-text\");\n",
              "            text.innerText = \"Initialized Chromedriver\";\n",
              "        "
            ]
          },
          "metadata": {}
        },
        {
          "output_type": "stream",
          "name": "stdout",
          "text": [
            "['แครอทจีน : 25 บาท /กก.', 'แครอทไทย : 22 บาท /กก.', 'ผักกาดขาว(ลุ้ย) : 18 บาท /กก.', 'ผักกาดขาว(ลุ้ย)จีน : 9 บาท /กก.', 'กรีนโอ๊ค : 100 บาท /กก.', 'ผักเรดโอ๊ค : 100 บาท /กก.', 'กรีนคอส : 90 บาท /กก.', 'กะหล่ำปลี ม่วง : 30 บาท /กก.', 'ข้าวโพดหวานแกะเม็ด : 25 บาท /กก.']\n",
            "📨 ส่งอีเมลเรียบร้อยแล้ว\n"
          ]
        }
      ]
    },
    {
      "cell_type": "code",
      "source": [],
      "metadata": {
        "id": "Y6jQPR1KCtsY"
      },
      "execution_count": null,
      "outputs": []
    }
  ]
}